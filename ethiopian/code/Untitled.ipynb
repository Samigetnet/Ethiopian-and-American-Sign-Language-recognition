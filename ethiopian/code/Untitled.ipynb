{
 "cells": [
  {
   "cell_type": "code",
   "execution_count": 4,
   "id": "c4df9842",
   "metadata": {},
   "outputs": [
    {
     "ename": "IndentationError",
     "evalue": "expected an indented block after 'if' statement on line 18 (2793712410.py, line 20)",
     "output_type": "error",
     "traceback": [
      "\u001b[1;36m  Cell \u001b[1;32mIn[4], line 20\u001b[1;36m\u001b[0m\n\u001b[1;33m    hand = hands[0]\u001b[0m\n\u001b[1;37m    ^\u001b[0m\n\u001b[1;31mIndentationError\u001b[0m\u001b[1;31m:\u001b[0m expected an indented block after 'if' statement on line 18\n"
     ]
    }
   ],
   "source": [
    "import cv2 #it is web cam librarys\n",
    "from cvzone.HandTrackingModule import HandDetector #hand detector librarys\n",
    "#import tensorflow as tf\n",
    "import numpy as np\n",
    "import time\n",
    "cap = cv2.VideoCapture(0) #start the web cam \n",
    "detector = HandDetector(maxHands=2) #detect the hand by chenging the no 1 or 2\n",
    "\n",
    "\n",
    "folder = \"project\\c\"\n",
    "counter = 0\n",
    "\n",
    "\n",
    "offset = 100\n",
    "while True:\n",
    "    success,img = cap.read()#read the camera from video capturing\n",
    "    hands,img = detector.findHands(img) #used to detect or read the hands \n",
    "    if hands:\n",
    "\n",
    "\n",
    "        hand = hands[0]\n",
    "       \n",
    "        x,y,w,h = hand['bbox']\n",
    "        \n",
    "        imgcrop = img[y: y + h + offset,x:x+w+offset]\n",
    "        cv2.imshow(\"ImageCrop\",imgcrop)\n",
    "        \n",
    "    cv2.imshow(\"Image\",img)  #it used to show the images \n",
    "    key =cv2.waitKey(1)# it is time delay if we set 0 it takes a pictur rother than videio\n",
    "    \n",
    "    if key == ord(\"s\"):\n",
    "        counter += 1\n",
    "        cv2.imwrite('ሀ'+str(counter)+'.jpg',img)\n",
    "        print(counter)\n",
    "    \n",
    "    \n",
    "    #cv2.destroyAllWindows()\n",
    "    \n",
    "    \n",
    "    \n",
    "    \n",
    "    "
   ]
  },
  {
   "cell_type": "code",
   "execution_count": null,
   "id": "4de04c36",
   "metadata": {},
   "outputs": [],
   "source": []
  },
  {
   "cell_type": "code",
   "execution_count": null,
   "id": "836453cf",
   "metadata": {},
   "outputs": [],
   "source": []
  },
  {
   "cell_type": "code",
   "execution_count": null,
   "id": "a70c915e",
   "metadata": {},
   "outputs": [],
   "source": []
  }
 ],
 "metadata": {
  "kernelspec": {
   "display_name": "Python 3 (ipykernel)",
   "language": "python",
   "name": "python3"
  },
  "language_info": {
   "codemirror_mode": {
    "name": "ipython",
    "version": 3
   },
   "file_extension": ".py",
   "mimetype": "text/x-python",
   "name": "python",
   "nbconvert_exporter": "python",
   "pygments_lexer": "ipython3",
   "version": "3.9.13"
  },
  "vscode": {
   "interpreter": {
    "hash": "559597b54d98ad8c220af1a2abc178a954069c604e1f23b952db55740cb5cc95"
   }
  }
 },
 "nbformat": 4,
 "nbformat_minor": 5
}
